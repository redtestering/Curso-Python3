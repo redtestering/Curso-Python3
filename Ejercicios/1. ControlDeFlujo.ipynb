{
 "cells": [
  {
   "cell_type": "markdown",
   "id": "902326a3-a559-452a-9268-ddb540f75dca",
   "metadata": {},
   "source": [
    "# Control de Flujo | Nivel Básico\n",
    "\n",
    "Estos son algunos ejercicios practicos para practicar el control de flujo\n"
   ]
  },
  {
   "cell_type": "markdown",
   "id": "ec7b30e1-4349-45f8-b9ec-640b186f5e58",
   "metadata": {},
   "source": [
    "## Verificador de mayoría de edad\n",
    "\n",
    "> Pide la edad de un usuario y determina si es mayor o menor de edad usando operadores de comparación y una estructura if.\n"
   ]
  },
  {
   "cell_type": "code",
   "execution_count": 71,
   "id": "9e83947a-f3b5-4800-ad7f-2143c142b878",
   "metadata": {},
   "outputs": [
    {
     "name": "stdin",
     "output_type": "stream",
     "text": [
      "¿Cual es tu edad?  30\n"
     ]
    },
    {
     "name": "stdout",
     "output_type": "stream",
     "text": [
      "eres mayor de edad\n"
     ]
    }
   ],
   "source": [
    "# pedir edad de usuario\n",
    "\n",
    "edad = int(input(\"¿Cual es tu edad? \"))\n",
    "\n",
    "# determinar si es mayor o menor de edad\n",
    "\n",
    "if edad >= 18:\n",
    "    print(\"eres mayor de edad\")\n",
    "else:\n",
    "    print(\"eres menor de edad\")\n"
   ]
  },
  {
   "cell_type": "markdown",
   "id": "8b6ee5c7-3534-4b89-aa2f-fdca29a67666",
   "metadata": {},
   "source": [
    "## Comparador de Números\n",
    "\n",
    "> Solicita dos números y muestra si el primero es mayor, menor o igual al segundo."
   ]
  },
  {
   "cell_type": "code",
   "execution_count": 6,
   "id": "3980d13d-6029-452d-a1ee-29ec5b0171bf",
   "metadata": {},
   "outputs": [
    {
     "name": "stdin",
     "output_type": "stream",
     "text": [
      "ingresa el 1er numero:  20\n",
      "ingresa el segundo numero:  3\n"
     ]
    },
    {
     "name": "stdout",
     "output_type": "stream",
     "text": [
      "20  es mayor a  3\n"
     ]
    }
   ],
   "source": [
    "# Solicitar 2 numeros\n",
    "\n",
    "numero_1 = int(input(\"ingresa el 1er numero: \"))\n",
    "numero_2 = int(input(\"ingresa el segundo numero: \"))\n",
    "\n",
    "# mostrar si el primero es mayor, menor o igual al segundo\n",
    "\n",
    "if numero_1 > numero_2:\n",
    "    print(numero_1 ,\" es mayor a \",numero_2)\n",
    "elif numero_1 < numero_2:\n",
    "    print(numero_1,\" es menor a\",numero_2)\n",
    "else:\n",
    "    print(\"Los numero son iguales\")"
   ]
  },
  {
   "cell_type": "markdown",
   "id": "3c11fadb-eb20-4c70-aace-2b04a7fba267",
   "metadata": {},
   "source": [
    "## Autenticación simple\n",
    "\n",
    "> Simula un inicio de sesión verificando si el usuario y contraseña ingresados coinciden con valores predefinidos (usa and y or)."
   ]
  },
  {
   "cell_type": "code",
   "execution_count": 7,
   "id": "65d9f24f-45f4-44cb-b06e-669fa1e8b07e",
   "metadata": {},
   "outputs": [
    {
     "name": "stdin",
     "output_type": "stream",
     "text": [
      "Ingrese el usuario:  e\n",
      "Ingrese el password:  r\n"
     ]
    },
    {
     "name": "stdout",
     "output_type": "stream",
     "text": [
      "[X] Verifica tu password o usuario\n"
     ]
    }
   ],
   "source": [
    "# valores predefinidos\n",
    "usuario = \"rojo\"\n",
    "password = \"123#\"\n",
    "\n",
    "# pidiendo el inicio de sesión\n",
    "\n",
    "usuarioIngresado = input(\"Ingrese el usuario: \")\n",
    "passwordIngresado = input(\"Ingrese el password: \")\n",
    "\n",
    "if usuarioIngresado == usuario and passwordIngresado == password:\n",
    "    print(\"[OK] credenciales correctas \")\n",
    "elif usuario != usuarioIngresado and password != passwordIngresado:\n",
    "    print(\"[X] Verifica tu password o usuario\")\n",
    "else: \n",
    "    exit()"
   ]
  },
  {
   "cell_type": "markdown",
   "id": "4e149bbb-6384-457d-aa02-fba82d7a69a5",
   "metadata": {},
   "source": [
    "# Par o Impar\n",
    "\n",
    "> Determina si un número es par o impar utilizando un operador de comparación dentro de un if."
   ]
  },
  {
   "cell_type": "code",
   "execution_count": 11,
   "id": "b2c93c58-1d76-4d6d-be36-75589ed3f7a8",
   "metadata": {},
   "outputs": [
    {
     "name": "stdin",
     "output_type": "stream",
     "text": [
      "ingresa un numero >  2\n"
     ]
    },
    {
     "name": "stdout",
     "output_type": "stream",
     "text": [
      "numero par\n"
     ]
    }
   ],
   "source": [
    "numero = int(input(\"ingresa un numero > \"))\n",
    "\n",
    "if numero % 2 != 0:\n",
    "    print(\"numero impar\")\n",
    "else:\n",
    "    print(\"numero par\")"
   ]
  },
  {
   "cell_type": "markdown",
   "id": "d079019a-9423-4159-9c43-1634aad8f506",
   "metadata": {},
   "source": [
    "---\n",
    "\n",
    "---"
   ]
  },
  {
   "cell_type": "markdown",
   "id": "3bb3d135-8a2f-4524-aa26-8acdac95531c",
   "metadata": {},
   "source": [
    "# Control de Flujo | Nivel Medio\n"
   ]
  },
  {
   "cell_type": "markdown",
   "id": "a268157c-8377-4f66-b435-8291d094506a",
   "metadata": {},
   "source": [
    "## Contador con while:\n",
    "\n",
    "> Crea un programa que cuente del 1 al 10 usando un bucle while, pero que se detenga si llega al número 7 (usa break)."
   ]
  },
  {
   "cell_type": "code",
   "execution_count": 17,
   "id": "696d9971-a33b-420d-88fb-4215ff9ca24e",
   "metadata": {},
   "outputs": [
    {
     "name": "stdout",
     "output_type": "stream",
     "text": [
      "1\n",
      "2\n",
      "3\n",
      "4\n",
      "5\n",
      "6\n",
      "7\n",
      "llegamos al 7 y paramos la ejecución\n"
     ]
    }
   ],
   "source": [
    "contador = 1\n",
    "\n",
    "while contador <= 10:\n",
    "    print(contador)\n",
    "    if contador == 7:\n",
    "        print(\"llegamos al 7 y paramos la ejecución\")\n",
    "        break\n",
    "    contador = contador + 1\n",
    "    "
   ]
  },
  {
   "cell_type": "markdown",
   "id": "1fad3bc4-a875-4932-85e0-58f684cb3cb3",
   "metadata": {},
   "source": [
    "## Salto de numeros con -> continue\n",
    "\n",
    "> Recorre los números del 1 al 20 con un for y omite los múltiplos de 3 usando continue."
   ]
  },
  {
   "cell_type": "code",
   "execution_count": 54,
   "id": "0622b366-850d-4aea-8c6f-80daf6b07b89",
   "metadata": {},
   "outputs": [
    {
     "name": "stdout",
     "output_type": "stream",
     "text": [
      "1\n",
      "2\n",
      "4\n",
      "5\n",
      "7\n",
      "8\n",
      "10\n",
      "11\n",
      "13\n",
      "14\n",
      "16\n",
      "17\n",
      "19\n"
     ]
    }
   ],
   "source": [
    "multiplo = 3\n",
    "\n",
    "for n in range(1,20):\n",
    "    if n % 3 == 0:\n",
    "        continue\n",
    "    print(n)\n",
    "            "
   ]
  },
  {
   "cell_type": "markdown",
   "id": "8a13f9de-d736-462f-bdaf-595f3eab0a36",
   "metadata": {},
   "source": [
    "# Simulador de intentos\n",
    "\n",
    "> Crea un programa que pida una contraseña hasta que el usuario la acierte o se agoten 3 intentos."
   ]
  },
  {
   "cell_type": "code",
   "execution_count": 72,
   "id": "ebb6c8e6-299d-4f55-b281-05a672daeb82",
   "metadata": {},
   "outputs": [
    {
     "name": "stdin",
     "output_type": "stream",
     "text": [
      "password >  1\n",
      "password >  3\n",
      "password >  3\n"
     ]
    },
    {
     "name": "stdout",
     "output_type": "stream",
     "text": [
      "Se agotaton tus intentos\n"
     ]
    }
   ],
   "source": [
    "passwd = \"12345\"\n",
    "intento = 0\n",
    "\n",
    "while True:\n",
    "    password = input(\"password > \")\n",
    "    if password != passwd:\n",
    "        intento = intento + 1\n",
    "    if intento == 3:\n",
    "        print(\"Se agotaton tus intentos\")\n",
    "        break"
   ]
  },
  {
   "cell_type": "markdown",
   "id": "571b9d80-7e97-4db9-a8cd-0178d848b7a9",
   "metadata": {},
   "source": [
    "# Números pares en un rango\n",
    "\n",
    "> Usa range() y un for para mostrar solo los números pares del 1 al 50."
   ]
  },
  {
   "cell_type": "code",
   "execution_count": 69,
   "id": "b9ca1325-a38b-4779-8779-4a00af74ae7f",
   "metadata": {},
   "outputs": [
    {
     "name": "stdout",
     "output_type": "stream",
     "text": [
      "2\n",
      "4\n",
      "6\n",
      "8\n",
      "10\n",
      "12\n",
      "14\n",
      "16\n",
      "18\n",
      "20\n",
      "22\n",
      "24\n",
      "26\n",
      "28\n",
      "30\n",
      "32\n",
      "34\n",
      "36\n",
      "38\n",
      "40\n",
      "42\n",
      "44\n",
      "46\n",
      "48\n"
     ]
    }
   ],
   "source": [
    "for n in range(1,50):\n",
    "    if n % 2 == 0:\n",
    "        print(n)"
   ]
  },
  {
   "cell_type": "markdown",
   "id": "79172755-4133-4107-997b-44f17da5497c",
   "metadata": {},
   "source": [
    "---\n",
    "---"
   ]
  },
  {
   "cell_type": "markdown",
   "id": "5d3377cb-0ca8-43c5-8222-7b9ec65526d9",
   "metadata": {},
   "source": [
    "# Nivel avanzado (combinación de todo)"
   ]
  },
  {
   "cell_type": "markdown",
   "id": "d3f3ea35-182d-47f5-93c7-a75396196f53",
   "metadata": {},
   "source": [
    "## Juego de adivinanza\n",
    "\n",
    "> El programa genera un número secreto. El usuario intenta adivinarlo y se le indica si su intento es mayor o menor hasta acertar. Usa while, if, break y operadores de comparación."
   ]
  },
  {
   "cell_type": "code",
   "execution_count": 122,
   "id": "d7ad7a2c-7bfc-49d8-af21-6118a9c09bab",
   "metadata": {},
   "outputs": [
    {
     "name": "stdin",
     "output_type": "stream",
     "text": [
      "¿cual crees que sea el numero? >  500\n"
     ]
    },
    {
     "name": "stdout",
     "output_type": "stream",
     "text": [
      "Aun no adivinas, tiene que ser menor\n"
     ]
    },
    {
     "name": "stdin",
     "output_type": "stream",
     "text": [
      "¿cual crees que sea el numero? >  400\n"
     ]
    },
    {
     "name": "stdout",
     "output_type": "stream",
     "text": [
      "Aun no adivinas, tiene que ser menor\n"
     ]
    },
    {
     "name": "stdin",
     "output_type": "stream",
     "text": [
      "¿cual crees que sea el numero? >  300\n"
     ]
    },
    {
     "name": "stdout",
     "output_type": "stream",
     "text": [
      "Aun no adivinas, tiene que ser menor\n"
     ]
    },
    {
     "name": "stdin",
     "output_type": "stream",
     "text": [
      "¿cual crees que sea el numero? >  200\n"
     ]
    },
    {
     "name": "stdout",
     "output_type": "stream",
     "text": [
      "Aun no adivinas, tiene que ser mayor\n"
     ]
    },
    {
     "name": "stdin",
     "output_type": "stream",
     "text": [
      "¿cual crees que sea el numero? >  250\n"
     ]
    },
    {
     "name": "stdout",
     "output_type": "stream",
     "text": [
      "Aun no adivinas, tiene que ser menor\n"
     ]
    },
    {
     "name": "stdin",
     "output_type": "stream",
     "text": [
      "¿cual crees que sea el numero? >  230\n"
     ]
    },
    {
     "name": "stdout",
     "output_type": "stream",
     "text": [
      "Aun no adivinas, tiene que ser mayor\n"
     ]
    },
    {
     "name": "stdin",
     "output_type": "stream",
     "text": [
      "¿cual crees que sea el numero? >  235\n"
     ]
    },
    {
     "name": "stdout",
     "output_type": "stream",
     "text": [
      "Aun no adivinas, tiene que ser mayor\n"
     ]
    },
    {
     "name": "stdin",
     "output_type": "stream",
     "text": [
      "¿cual crees que sea el numero? >  240\n"
     ]
    },
    {
     "name": "stdout",
     "output_type": "stream",
     "text": [
      "Aun no adivinas, tiene que ser mayor\n"
     ]
    },
    {
     "name": "stdin",
     "output_type": "stream",
     "text": [
      "¿cual crees que sea el numero? >  245\n"
     ]
    },
    {
     "name": "stdout",
     "output_type": "stream",
     "text": [
      "Adivinaste el numero\n"
     ]
    }
   ],
   "source": [
    "import random\n",
    "\n",
    "n_secret = random.randint(1,1000) # numero secreto y aleatorio desde un rango de 1 a 1000 \n",
    "\n",
    "while True:\n",
    "    secreto = n_secret # obteniendo el numero \n",
    "    numero_adivinar = int(input(\"¿cual crees que sea el numero? > \"))\n",
    "\n",
    "    if secreto < numero_adivinar:\n",
    "        print(\"Aun no adivinas, tiene que ser menor\")\n",
    "\n",
    "    if secreto > numero_adivinar:\n",
    "        print(\"Aun no adivinas, tiene que ser mayor\")\n",
    "\n",
    "    if secreto == numero_adivinar:\n",
    "        print(\"Adivinaste el numero\")\n",
    "        break\n",
    "    "
   ]
  },
  {
   "cell_type": "markdown",
   "id": "6c932c78-3bcc-4999-aa77-b7845888d86a",
   "metadata": {},
   "source": [
    "## Clasificador de calificaciones\n",
    "> Pide una calificación y, con if, elif, else, muestra si es “Excelente”, “Buena”, “Regular” o “Reprobada”."
   ]
  },
  {
   "cell_type": "code",
   "execution_count": 121,
   "id": "6109db4a-8e47-4cd4-ac3d-a39d97ddb0f6",
   "metadata": {},
   "outputs": [
    {
     "name": "stdin",
     "output_type": "stream",
     "text": [
      "Ingresa calificación >  23\n"
     ]
    },
    {
     "name": "stdout",
     "output_type": "stream",
     "text": [
      "digitaste un número mayor a 10\n"
     ]
    }
   ],
   "source": [
    "calificacion = int(input(\"Ingresa calificación > \"))\n",
    "\n",
    "reprobado = 5 # 12345\n",
    "regular = 6 # 6-7\n",
    "buena = 8 #8-9\n",
    "excelente = 10\n",
    "\n",
    "if calificacion <= reprobado:\n",
    "    print(\"Reprobado\")\n",
    "\n",
    "elif calificacion >= regular and calificacion <= 7:\n",
    "    print(\"Regular\")\n",
    "\n",
    "elif calificacion >= buena and calificacion <= 9:\n",
    "    print(\"Buena\")\n",
    "\n",
    "elif calificacion == excelente:\n",
    "    print(\"Excelente\")\n",
    "\n",
    "else: \n",
    "    print(\"digitaste un número mayor a 10\")"
   ]
  },
  {
   "cell_type": "markdown",
   "id": "642c0fab-6019-4ce3-bb76-f4f3e09294a7",
   "metadata": {},
   "source": [
    "## Contador de números positivos, negativos y ceros\n",
    "\n",
    "> Pide al usuario ingresar varios números (usa un while o for) y cuenta cuántos son positivos, negativos o ceros."
   ]
  },
  {
   "cell_type": "code",
   "execution_count": 17,
   "id": "34ad0885-4955-4314-b5bf-594f16359527",
   "metadata": {},
   "outputs": [
    {
     "name": "stdin",
     "output_type": "stream",
     "text": [
      "ingresa numero:  0\n",
      "ingresa numero:  0\n",
      "ingresa numero:  0\n",
      "ingresa numero:  2\n",
      "ingresa numero:  2\n",
      "ingresa numero:  2\n",
      "ingresa numero:  -1\n",
      "ingresa numero:  -8\n",
      "ingresa numero:  8\n",
      "ingresa numero:  0\n"
     ]
    },
    {
     "name": "stdout",
     "output_type": "stream",
     "text": [
      "positivos: 4 negativos: 2 cero: 4\n"
     ]
    }
   ],
   "source": [
    "positivo = 0\n",
    "negativo = 0\n",
    "cero = 0\n",
    "\n",
    "for n in range(10):\n",
    "    numero = int(input(\"ingresa numero: \"))\n",
    "    \n",
    "    if numero >= 1:\n",
    "        positivo = positivo + 1\n",
    "    if numero < 0:\n",
    "        negativo = negativo + 1\n",
    "    if numero == 0:\n",
    "        cero = cero + 1\n",
    "        \n",
    "print(\"positivos:\",positivo,\"negativos:\",negativo,\"cero:\",cero)"
   ]
  },
  {
   "cell_type": "markdown",
   "id": "35b93d7b-2690-4587-8727-8352bbbf894f",
   "metadata": {},
   "source": [
    "## Simulador de menú interactivo\n",
    "\n",
    "> Muestra un menú con opciones (por ejemplo, sumar, restar, salir). Usa while para mantener el menú activo y break para salir."
   ]
  },
  {
   "cell_type": "code",
   "execution_count": 28,
   "id": "d49cf199-2c4b-4736-b2f0-ca6ea79e794c",
   "metadata": {},
   "outputs": [
    {
     "name": "stdout",
     "output_type": "stream",
     "text": [
      "\n",
      "    MENÚ\n",
      "\n",
      "    1. Sumar\n",
      "    2. Restar\n",
      "    3. Multiplicar\n",
      "\n",
      "    \n"
     ]
    },
    {
     "name": "stdin",
     "output_type": "stream",
     "text": [
      "Seleccione una opción:  9\n"
     ]
    },
    {
     "name": "stdout",
     "output_type": "stream",
     "text": [
      "\n",
      "    MENÚ\n",
      "\n",
      "    1. Sumar\n",
      "    2. Restar\n",
      "    3. Multiplicar\n",
      "\n",
      "    \n"
     ]
    },
    {
     "name": "stdin",
     "output_type": "stream",
     "text": [
      "Seleccione una opción:  2\n"
     ]
    },
    {
     "name": "stdout",
     "output_type": "stream",
     "text": [
      "70\n",
      "\n",
      "    MENÚ\n",
      "\n",
      "    1. Sumar\n",
      "    2. Restar\n",
      "    3. Multiplicar\n",
      "\n",
      "    \n"
     ]
    },
    {
     "name": "stdin",
     "output_type": "stream",
     "text": [
      "Seleccione una opción:  1\n"
     ]
    },
    {
     "name": "stdout",
     "output_type": "stream",
     "text": [
      "20\n",
      "\n",
      "    MENÚ\n",
      "\n",
      "    1. Sumar\n",
      "    2. Restar\n",
      "    3. Multiplicar\n",
      "\n",
      "    \n"
     ]
    },
    {
     "name": "stdin",
     "output_type": "stream",
     "text": [
      "Seleccione una opción:  100\n"
     ]
    }
   ],
   "source": [
    "while True:\n",
    "    print(\"\"\"\n",
    "    MENÚ\n",
    "\n",
    "    1. Sumar\n",
    "    2. Restar\n",
    "    3. Multiplicar\n",
    "    \n",
    "    \"\"\")\n",
    "    opcion = int(input(\"Seleccione una opción: \"))\n",
    "\n",
    "    if opcion == 1:\n",
    "        print(10 + 10)\n",
    "\n",
    "    if opcion == 2:\n",
    "        print(90-20)\n",
    "\n",
    "    if opcion == 3:\n",
    "        print(30 * 5)\n",
    "\n",
    "    if opcion == 100:\n",
    "        break\n",
    "\n",
    "\n",
    "        "
   ]
  },
  {
   "cell_type": "code",
   "execution_count": null,
   "id": "42f395a0-5712-4dec-90fd-30a711a67be3",
   "metadata": {},
   "outputs": [],
   "source": []
  }
 ],
 "metadata": {
  "kernelspec": {
   "display_name": "Python 3 (ipykernel)",
   "language": "python",
   "name": "python3"
  },
  "language_info": {
   "codemirror_mode": {
    "name": "ipython",
    "version": 3
   },
   "file_extension": ".py",
   "mimetype": "text/x-python",
   "name": "python",
   "nbconvert_exporter": "python",
   "pygments_lexer": "ipython3",
   "version": "3.14.0"
  }
 },
 "nbformat": 4,
 "nbformat_minor": 5
}
