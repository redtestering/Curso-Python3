{
 "cells": [
  {
   "cell_type": "markdown",
   "id": "902326a3-a559-452a-9268-ddb540f75dca",
   "metadata": {},
   "source": [
    "# Control de Flujo\n",
    "\n",
    "El control de flujo son las estructuras que definen el orden en que se ejecutan las instrucciones de un programa, \n",
    "permitiendo tomar decisiones y repetir bloques de código.\n"
   ]
  },
  {
   "cell_type": "markdown",
   "id": "e0096438-bb9e-439b-b4c2-b879a8bc15dd",
   "metadata": {},
   "source": [
    "## Valores booleanos"
   ]
  },
  {
   "cell_type": "markdown",
   "id": "acc5d4b7-5652-4f1d-ba09-58fafffbe197",
   "metadata": {},
   "source": [
    "|Valor | Descripción |\n",
    "|------|-------------|\n",
    "|`True`|Representa el valor verdadero de una expresión|\n",
    "|`False` | Representa el valor falso de una expresión |\n",
    "\n"
   ]
  },
  {
   "cell_type": "markdown",
   "id": "a31e45fa-4441-4d28-8883-70327d9f55da",
   "metadata": {},
   "source": [
    "## Operadores de comparación"
   ]
  },
  {
   "cell_type": "markdown",
   "id": "dbf2324f-06b4-494a-b35f-103c492ae578",
   "metadata": {},
   "source": [
    "| Valor | Descripción |\n",
    "|------|-------------|\n",
    "|`==` | igual a |\n",
    "|`!=` | diferente de |\n",
    "|`<` | menor que |\n",
    "|`>` | mayor que |\n",
    "|`<=` | menor igual |\n",
    "|`>=` | mayor igual |\n",
    "\n",
    "> **Estos operadores evalúan como True o False según valores que se les asignen.**"
   ]
  },
  {
   "cell_type": "markdown",
   "id": "c36d8bd1-9331-4df2-8cfb-332a059e8e0f",
   "metadata": {},
   "source": [
    "## Operadores Booleanos"
   ]
  },
  {
   "cell_type": "markdown",
   "id": "da86be17-8db3-4ce3-91db-1125a50eab16",
   "metadata": {},
   "source": [
    "| Valor | Descripción |\n",
    "|------|-------------|\n",
    "|`and` | el operador requiere que todas las condiciones sean verdaderas para que el resultado sea verdadero. |\n",
    "|`or` | devuelve verdadero si al menos alguna de las condiciones es verdadera |\n",
    "|`not` | invierte el valor booleano de una condición, transformando True en False y viceversa. |\n"
   ]
  },
  {
   "cell_type": "markdown",
   "id": "92c15d02-ce45-4774-9585-59613583f2c8",
   "metadata": {},
   "source": [
    "# Declaraciones de control de flujo"
   ]
  },
  {
   "cell_type": "markdown",
   "id": "cb960cd5-bd80-4f1c-8191-54d9a84ce0c7",
   "metadata": {},
   "source": [
    "## if\n",
    "\n",
    "> Una sentencia if puede definirse como: si X condición es verdadera, se ejecuta el código de la clausula.\n",
    "\n",
    "### Sintaxis\n",
    "\n",
    "```\n",
    "if condicion:\n",
    "    # bloque a ejecutar\n",
    "```\n"
   ]
  },
  {
   "cell_type": "markdown",
   "id": "e616b330-8c9a-4641-90aa-28ba095a55c2",
   "metadata": {},
   "source": [
    "## else\n",
    "\n",
    "> La clausula else solo se ejecuta cuando la condición if es `false`\n",
    "\n",
    "### Sintaxis\n",
    "\n",
    "```\n",
    "if condicion:\n",
    "    # se ejecuta si es True\n",
    "else:\n",
    "    # se ejecuta si la condición de arriba es False\n",
    "    \n",
    "```"
   ]
  },
  {
   "cell_type": "markdown",
   "id": "c0eda79a-8e68-4754-abcb-52d23a410c17",
   "metadata": {},
   "source": [
    "## elif\n",
    "\n",
    "> Proporciona otra condición que se verifica solo si todas las condiciones anteriores son `false`\n",
    "\n",
    "### Sintaxis\n",
    "\n",
    "```\n",
    "if condicion:\n",
    "    # se ejecuta si es True\n",
    "elif condicion:\n",
    "    # se ejecuta si la condición anterior es false\n",
    "```"
   ]
  },
  {
   "cell_type": "code",
   "execution_count": null,
   "id": "399ea3a2-6cfb-41d2-b602-557b0c819590",
   "metadata": {},
   "outputs": [],
   "source": []
  }
 ],
 "metadata": {
  "kernelspec": {
   "display_name": "Python 3 (ipykernel)",
   "language": "python",
   "name": "python3"
  },
  "language_info": {
   "codemirror_mode": {
    "name": "ipython",
    "version": 3
   },
   "file_extension": ".py",
   "mimetype": "text/x-python",
   "name": "python",
   "nbconvert_exporter": "python",
   "pygments_lexer": "ipython3",
   "version": "3.14.0"
  }
 },
 "nbformat": 4,
 "nbformat_minor": 5
}
