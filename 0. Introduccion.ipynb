{
 "cells": [
  {
   "cell_type": "markdown",
   "id": "2df78de9-2dc7-4680-8c0e-f1591d16cbab",
   "metadata": {},
   "source": [
    "'''\n",
    "Esta sección de mi aprendizaje en python, empezaremos por los temas básicos del lenguaje, las bases para poder afrontar\n",
    "lo siguiente, veremos los siguientes temas:\n",
    "\n",
    "1. Operaciones matematicas y operadores\n",
    "2. Tipos de datos\n",
    "3. Concatenar cadenas\n",
    "4. Variables\n",
    "5. Comentarios\n",
    "6. Funciónes print(), input(), len(), str(), int(), float(), type+, round(), abs()\n",
    "\n",
    "'''"
   ]
  },
  {
   "cell_type": "markdown",
   "id": "0f3a69d8-0628-41b3-bc8a-a7c6b6109674",
   "metadata": {},
   "source": [
    "# Operaciones matematicas y operadores"
   ]
  },
  {
   "cell_type": "code",
   "execution_count": null,
   "id": "9e893fe9-8b75-4d73-8583-f06585b3cdb3",
   "metadata": {},
   "outputs": [],
   "source": [
    "# operador de exponenciación\n",
    "2**2\n",
    "\n",
    "# Operador módulo\n",
    "33 % 3\n",
    "\n",
    "# operadorde división de enteros\n",
    "40 // 4\n",
    "\n",
    "# operador de división\n",
    "100 / 2 \n",
    "\n",
    "# operado de multipliación\n",
    "50 * 2\n",
    "\n",
    "# operador de sustracción\n",
    "5 - 2\n",
    "\n",
    "# operador de suma\n",
    "10 + 10\n",
    "\n",
    "\"\"\"\n",
    "💡 El orden de las operaciones importa, ya que el concepto de precedencia indica que el orden de las operaciones que se deben seguir para resolver una expresión\n",
    "\"\"\"\n",
    "\n",
    "# 💡 Ejemplo\n",
    "\n",
    "\"\"\"\n",
    "La operación 2+9*5 no se ejecutará de acuerdo al orden, ya que primero por la regla\n",
    "el orden de las operaciones (primero se resuelven los parentesis)\n",
    "\"\"\"\n",
    "\n",
    "# supongamos que tenemos la siguiente operación \n",
    "\n",
    "10 + 10 # el resultado sería 20\n",
    "\n",
    "\n",
    "# ahora agregamos una multiplicación\n",
    "\n",
    "10 + 10 * 4 # el resultado lógico a simple vista sería 80\n",
    "\n",
    "# pero no es así, aqui en este punto primero se resuelve la multiplicación y despues la suma\n",
    "\n",
    "10 + 10 * 4 # el resultado sería 50\n"
   ]
  },
  {
   "cell_type": "markdown",
   "id": "165b1a33-0845-43f4-b6f5-9150fc994d59",
   "metadata": {},
   "source": [
    "# Tipos de datos\n"
   ]
  },
  {
   "cell_type": "code",
   "execution_count": null,
   "id": "1feef630-a3df-4785-a8d4-9414cb19ef60",
   "metadata": {},
   "outputs": [],
   "source": [
    "# ℹ️ Un tipo de datos es una categoría para valores, y cada valor pertenece a un tipo de dato\n",
    "\n",
    "\"\"\"\n",
    "Tipo de dato             | Ejemplo\n",
    "----------------------------------------------\n",
    "Entero (int)             | 1,2,3,-3,-6, 0\n",
    "Punto Flotante(float)    | 3.4,5.8, 0,0\n",
    "Cadena (str)             | ‘1’, ‘11’, ‘hola’\n",
    "\n",
    "\"\"\""
   ]
  },
  {
   "cell_type": "markdown",
   "id": "ca3aa467-cf32-4d3e-93a1-f6913f9b4062",
   "metadata": {},
   "source": [
    "# Concatenar Cadenas"
   ]
  },
  {
   "cell_type": "code",
   "execution_count": null,
   "id": "3d8d3693-e7c5-462b-99ef-b803aba9a885",
   "metadata": {},
   "outputs": [],
   "source": [
    "\"\"\"\n",
    "una cadena es un tipo de dato que representa una secuencia de caracteres, como números, letras, simbolos o espacios.\n",
    "\"\"\"\n",
    "# ejemplo de cadema \n",
    "\n",
    "\"soy una cadena\"\n",
    "\n",
    "\"\"\"\n",
    "Para concatenar este tipo de datos en python es necesario hacerlo con el operador de suma +  entre las 2 cadenas.\n",
    "\"\"\"\n",
    "\n",
    "# concatenar 2 cadenas\n",
    "\n",
    "\"soy una cadena\" + \"tu eres otra cadena\"\n"
   ]
  },
  {
   "cell_type": "markdown",
   "id": "da0c6774-9ea7-4d41-969b-8a361037e5dc",
   "metadata": {},
   "source": [
    "# Variables"
   ]
  },
  {
   "cell_type": "code",
   "execution_count": null,
   "id": "bbfb16c6-9dd7-4642-b5d0-e6168895a39d",
   "metadata": {},
   "outputs": [],
   "source": [
    "\"\"\"\n",
    "Una variable es un espacio en memoria de la computadora el cual permite almacenar un único valor.\n",
    "\"\"\"\n",
    "\n",
    "\"\"\"\n",
    "-> Declaración y asignación\n",
    "\"\"\"\n",
    "\n",
    "# Las variables en python se declaran poniendo primeramente el nombre y despues el valor\n",
    "\n",
    "marca = \"apple\"\n",
    "generacion = 17\n",
    "\n",
    "\"\"\"\n",
    "-> Nombres de variables\n",
    "\n",
    "Las variables tienen que ser descriptivas para poder encontrarlas rápidamente en tu código, existen restricciones para no declararlas de tal manera:\n",
    "\n",
    "- No puede tener espacios\n",
    "- es posible utilizar letras, números y guiones bajos\n",
    "- No pueden comenzar con numero\n",
    "-  No pueden utilizar palabras reservadas del lenguaje como if, for, return  \n",
    "\n",
    "\"\"\"\n",
    "\n",
    "# Ejemplo de una variable bien declarada\n",
    "\n",
    "mi_variable = \"esta es mi variable bien declarada\"\n",
    "\n",
    "\n",
    "# Ejemplo de una variable mal declarada\n",
    "\n",
    "3pasos = \"esta forma no es correcta\"\n"
   ]
  },
  {
   "cell_type": "markdown",
   "id": "c8a90e27-87ea-477a-87da-0f020a51f1df",
   "metadata": {},
   "source": [
    "# Comentarios"
   ]
  },
  {
   "cell_type": "code",
   "execution_count": null,
   "id": "6001f374-3117-43d2-afc3-134130547496",
   "metadata": {},
   "outputs": [],
   "source": [
    "# Los comentarios son importantes para distinguir las secciones y bloques de nuestro código\n",
    "\n",
    "# Esto es un comentario en una sola linea\n",
    "\n",
    "\"\"\"\n",
    "Esto es un comentario de\n",
    "multiple linea\n",
    "\"\"\"\n"
   ]
  },
  {
   "cell_type": "markdown",
   "id": "5cc3eb88-5118-4410-b310-4671072b5325",
   "metadata": {},
   "source": [
    "# función print()"
   ]
  },
  {
   "cell_type": "code",
   "execution_count": null,
   "id": "cedd658d-02d2-4f04-a06b-315807ba5816",
   "metadata": {},
   "outputs": [],
   "source": [
    "# La función print() muestra el valor de una cadena dentro de los parentesis, muestra el valor que contenga una variable.\n",
    "\n",
    "print(\"Esto se mostrará en pantalla\")"
   ]
  },
  {
   "cell_type": "markdown",
   "id": "4c3c9e1c-1b8c-42f9-87c8-06e12801ac95",
   "metadata": {},
   "source": [
    "# función input()"
   ]
  },
  {
   "cell_type": "code",
   "execution_count": null,
   "id": "f56654a9-80ec-4a1c-8cf3-790f6e9088bb",
   "metadata": {},
   "outputs": [],
   "source": [
    "# la función input() espera que el usuario escriba algun texto en el teclado y presionar ENTER\n",
    "\n",
    "edad = input(\"edad > \")"
   ]
  },
  {
   "cell_type": "markdown",
   "id": "17353a3b-260c-4290-93e0-929b1ecd53e0",
   "metadata": {},
   "source": [
    "# función len()"
   ]
  },
  {
   "cell_type": "code",
   "execution_count": 1,
   "id": "cf70eb0e-90f7-49aa-9ab5-f419e3ab0669",
   "metadata": {},
   "outputs": [
    {
     "name": "stdout",
     "output_type": "stream",
     "text": [
      "10\n"
     ]
    }
   ],
   "source": [
    "# La función len() evaluá el valor entero y la cantidad de caracteres en esa cadena\n",
    "\n",
    "# variable de tipo cadena\n",
    "\n",
    "nombre = \"Erick Rojo\" \n",
    "\n",
    "print(len(nombre)) # devolverar el numero de cacteres que contiene la cadena, en este caso sería 10"
   ]
  },
  {
   "cell_type": "markdown",
   "id": "5ab9e5a1-ee42-4d93-974c-a177732c71b7",
   "metadata": {},
   "source": [
    "# funciones str(), int(), y float()"
   ]
  },
  {
   "cell_type": "code",
   "execution_count": null,
   "id": "c93decaf-4593-4e88-b9c1-6b0eb207ae6a",
   "metadata": {},
   "outputs": [],
   "source": [
    "\"\"\"\n",
    "La función str() evalua un numero entero o flotante para pasarlo a cadena.\n",
    "\n",
    "La función int() convierte valores a un número entero\n",
    "\n",
    "La función float() convierte otros valores (enteros o cadenas) a este tipo de dato númerico\n",
    "\"\"\""
   ]
  },
  {
   "cell_type": "markdown",
   "id": "a9b385a6-bf18-4394-a64e-d7328adf28d8",
   "metadata": {},
   "source": [
    "# función type()"
   ]
  },
  {
   "cell_type": "code",
   "execution_count": 2,
   "id": "d058ae18-5ab9-4798-9a4b-5193f5d1899e",
   "metadata": {},
   "outputs": [
    {
     "name": "stdout",
     "output_type": "stream",
     "text": [
      "<class 'str'>\n"
     ]
    }
   ],
   "source": [
    "# La función type() sirve para determinar el tipo de dato de variables o valores pasados a la misma función\n",
    "\n",
    "spam = \"mensaje de spam\"\n",
    "\n",
    "print(type(spam)) # <class 'str'>\n"
   ]
  },
  {
   "cell_type": "markdown",
   "id": "d4e939bf-f024-401f-b1e8-cfbb27dc4298",
   "metadata": {},
   "source": [
    "# funciones round() y abs()"
   ]
  },
  {
   "cell_type": "code",
   "execution_count": null,
   "id": "e88c9f10-0a31-43fb-881a-dce26cadec7b",
   "metadata": {},
   "outputs": [],
   "source": [
    "\"\"\"\n",
    "La función round() acepta un valor de punto flotante y devuelve el entero más cercano.\n",
    "\n",
    "La función abs() devuelve el valor absoluto del argumento númerico\n",
    "\"\"\"\n",
    "# la función round va redondear el valor de un numero  especifico a decimales o al entero más cercano\n",
    "\n",
    "numero = 10.3\n",
    "print(round(numero)) # el número sera redondeado a 10\n",
    "\n",
    "# la función abs() va a devolver el valor absoluto del numero, es decir, su valor sin el signo\n",
    "\n",
    "numero = -20\n",
    "print(abs(numero)) # el numero es será 20, lo que hace es quitarle el signo\n"
   ]
  }
 ],
 "metadata": {
  "kernelspec": {
   "display_name": "Python 3 (ipykernel)",
   "language": "python",
   "name": "python3"
  },
  "language_info": {
   "codemirror_mode": {
    "name": "ipython",
    "version": 3
   },
   "file_extension": ".py",
   "mimetype": "text/x-python",
   "name": "python",
   "nbconvert_exporter": "python",
   "pygments_lexer": "ipython3",
   "version": "3.14.0"
  }
 },
 "nbformat": 4,
 "nbformat_minor": 5
}
